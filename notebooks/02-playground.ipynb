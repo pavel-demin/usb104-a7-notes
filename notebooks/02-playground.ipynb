{
 "cells": [
  {
   "attachments": {},
   "cell_type": "markdown",
   "metadata": {},
   "source": [
    "### Playground\n",
    "\n",
    "This notebook shows how to communicate with configuration registers, status registers and AXI4-Stream ports inside the FPGA using the [pyhubio](https://github.com/pavel-demin/pyhubio) library."
   ]
  },
  {
   "attachments": {},
   "cell_type": "markdown",
   "metadata": {},
   "source": [
    "Import the required libraries and instantiate `PyhubJTAG` and `PyhubIO`."
   ]
  },
  {
   "cell_type": "code",
   "execution_count": null,
   "metadata": {},
   "outputs": [],
   "source": [
    "from pyhubio import PyhubJTAG, PyhubIO\n",
    "import numpy as np\n",
    "import pylab as pl\n",
    "import time\n",
    "\n",
    "jtag = PyhubJTAG()\n",
    "io = PyhubIO()"
   ]
  },
  {
   "attachments": {},
   "cell_type": "markdown",
   "metadata": {},
   "source": [
    "Program the FPGA."
   ]
  },
  {
   "cell_type": "code",
   "execution_count": null,
   "metadata": {},
   "outputs": [],
   "source": [
    "jtag.program(\"playground.bit\")"
   ]
  },
  {
   "attachments": {},
   "cell_type": "markdown",
   "metadata": {},
   "source": [
    "Start I/O."
   ]
  },
  {
   "cell_type": "code",
   "execution_count": null,
   "metadata": {},
   "outputs": [],
   "source": [
    "io.start()\n",
    "io.flush()"
   ]
  },
  {
   "attachments": {},
   "cell_type": "markdown",
   "metadata": {},
   "source": [
    "The port number (hub address) of the configuration registers is 0.\n",
    "\n",
    "The first four bits of the 32-bit configuration register at address 0 are connected to the LEDs on the USB104 A7 board.\n",
    "\n",
    "The following script turns all the LEDs on and off several times."
   ]
  },
  {
   "cell_type": "code",
   "execution_count": null,
   "metadata": {},
   "outputs": [],
   "source": [
    "leds = np.zeros(1, np.uint32)\n",
    "\n",
    "for i in range(10):\n",
    "    leds[0] ^= 15\n",
    "    io.write(leds, port=0, addr=0)\n",
    "    time.sleep(0.5)"
   ]
  },
  {
   "attachments": {},
   "cell_type": "markdown",
   "metadata": {},
   "source": [
    "The port number (hub address) of the status registers is 1.\n",
    "\n",
    "The first two bits of the 32-bit status register at address 0 are connected to the buttons on the USB104 A7 board.\n",
    "\n",
    "The following script reads the state of the buttons."
   ]
  },
  {
   "cell_type": "code",
   "execution_count": null,
   "metadata": {},
   "outputs": [],
   "source": [
    "buttons = np.zeros(1, np.uint32)\n",
    "\n",
    "io.read(buttons, port=1, addr=0)\n",
    "\n",
    "print(\"BTN0:\", buttons[0] & 1, \"BTN1:\", buttons[0] >> 1)"
   ]
  },
  {
   "attachments": {},
   "cell_type": "markdown",
   "metadata": {},
   "source": [
    "The 32-bit configuration register at address 1 is connected to the 16-bit inputs of the DSP48 multiplier and the status register at address 1 is connected to the 32-bit output of the multiplier.\n",
    "\n",
    "The following script writes two 16-bit integer values to be multiplied in the configuration register at address 1 and reads the result of the multiplication from the status register at address 1."
   ]
  },
  {
   "cell_type": "code",
   "execution_count": null,
   "metadata": {},
   "outputs": [],
   "source": [
    "input = np.array([6, 7], np.int16)\n",
    "io.write(input, port=0, addr=1)\n",
    "\n",
    "output = np.zeros(1, np.int32)\n",
    "io.read(output, port=1, addr=1)\n",
    "\n",
    "print(output[0])"
   ]
  },
  {
   "attachments": {},
   "cell_type": "markdown",
   "metadata": {},
   "source": [
    "The first AXI4-Stream interface has port number (hub address) 2. Its slave side is connected to a counter that increments after each read transaction.\n",
    "\n",
    "The following script reads 10 numbers from the counter."
   ]
  },
  {
   "cell_type": "code",
   "execution_count": null,
   "metadata": {},
   "outputs": [],
   "source": [
    "output = np.zeros(10, np.int32)\n",
    "io.read(output, port=2, addr=0)\n",
    "\n",
    "print(output)"
   ]
  },
  {
   "attachments": {},
   "cell_type": "markdown",
   "metadata": {},
   "source": [
    "The second AXI4-Stream interface has port number (hub address) 3. Its slave side is connected to a direct digital synthesizer (DDS) that generates sine and cosine waveforms. The frequency is controlled by the 30-bit phase increment in the configuration register at address 2.\n",
    "\n",
    "The following script sets the frequency to 1 MHz and reads 2048 samples from the DDS."
   ]
  },
  {
   "cell_type": "code",
   "execution_count": null,
   "metadata": {},
   "outputs": [],
   "source": [
    "freq = 1e6\n",
    "io.write(np.uint32([freq / 100e6 * (1 << 30) + 0.5]), port=0, addr=2)\n",
    "\n",
    "samples = np.zeros(2048, np.int16)\n",
    "io.read(samples, port=3, addr=0)\n",
    "\n",
    "cos = samples[0::2]\n",
    "sin = samples[1::2]\n",
    "\n",
    "pl.figure(figsize=[8, 4], dpi=150, constrained_layout=True)\n",
    "\n",
    "pl.plot(cos)\n",
    "pl.plot(sin)\n",
    "\n",
    "pl.ylim(-35000, 35000)\n",
    "pl.grid()\n",
    "\n",
    "pl.show()"
   ]
  },
  {
   "attachments": {},
   "cell_type": "markdown",
   "metadata": {},
   "source": [
    "Stop I/O."
   ]
  },
  {
   "cell_type": "code",
   "execution_count": null,
   "metadata": {},
   "outputs": [],
   "source": [
    "io.stop()"
   ]
  }
 ],
 "metadata": {
  "kernelspec": {
   "display_name": "Python 3 (ipykernel)",
   "language": "python",
   "name": "python3"
  },
  "language_info": {
   "codemirror_mode": {
    "name": "ipython",
    "version": 3
   },
   "file_extension": ".py",
   "mimetype": "text/x-python",
   "name": "python",
   "nbconvert_exporter": "python",
   "pygments_lexer": "ipython3"
  }
 },
 "nbformat": 4,
 "nbformat_minor": 4
}
