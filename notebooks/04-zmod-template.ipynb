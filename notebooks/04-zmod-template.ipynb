{
 "cells": [
  {
   "attachments": {},
   "cell_type": "markdown",
   "metadata": {},
   "source": [
    "### Zmod template\n",
    "\n",
    "This notebook can be used with the [template](https://github.com/pavel-demin/usb104-a7-notes/tree/master/projects/template) project that contains the USB interface connected to the ADC interface via an intermediate FIFO buffer. It requires the Zmod Digitizer module to be connected to the ZMOD A connector of the USB104 A7 board and it shows how to use basic Python scripts to read ADC samples."
   ]
  },
  {
   "attachments": {},
   "cell_type": "markdown",
   "metadata": {},
   "source": [
    "Import the required libraries and instantiate `PyhubJTAG` and `PyhubIO`."
   ]
  },
  {
   "cell_type": "code",
   "execution_count": null,
   "metadata": {},
   "outputs": [],
   "source": [
    "from pyhubio import PyhubJTAG, PyhubIO\n",
    "import numpy as np\n",
    "import pylab as pl\n",
    "import time\n",
    "\n",
    "jtag = PyhubJTAG()\n",
    "io = PyhubIO()"
   ]
  },
  {
   "attachments": {},
   "cell_type": "markdown",
   "metadata": {},
   "source": [
    "Program the FPGA."
   ]
  },
  {
   "cell_type": "code",
   "execution_count": null,
   "metadata": {},
   "outputs": [],
   "source": [
    "jtag.program(\"template.bit\")"
   ]
  },
  {
   "attachments": {},
   "cell_type": "markdown",
   "metadata": {},
   "source": [
    "Start I/O."
   ]
  },
  {
   "cell_type": "code",
   "execution_count": null,
   "metadata": {},
   "outputs": [],
   "source": [
    "io.start()\n",
    "io.flush()"
   ]
  },
  {
   "attachments": {},
   "cell_type": "markdown",
   "metadata": {},
   "source": [
    "Configure ADC."
   ]
  },
  {
   "cell_type": "code",
   "execution_count": null,
   "metadata": {},
   "outputs": [],
   "source": [
    "adc_cfg = [\n",
    "    0x00003C,\n",
    "    0x000503,\n",
    "    0x000803,\n",
    "    0x000800,\n",
    "    0x000501,\n",
    "    0x001431,\n",
    "    0x000502,\n",
    "    0x001425,\n",
    "    0x000500,\n",
    "    0x002A00,\n",
    "]\n",
    "time.sleep(0.1)\n",
    "io.write(np.uint32(adc_cfg), 2, 0)\n",
    "time.sleep(0.1)"
   ]
  },
  {
   "attachments": {},
   "cell_type": "markdown",
   "metadata": {},
   "source": [
    "Initialize variables."
   ]
  },
  {
   "cell_type": "code",
   "execution_count": null,
   "metadata": {},
   "outputs": [],
   "source": [
    "size = 131072\n",
    "buffer = np.zeros(size * 2, np.int16)\n",
    "status = np.zeros(1, np.uint32)"
   ]
  },
  {
   "attachments": {},
   "cell_type": "markdown",
   "metadata": {},
   "source": [
    "Reset the FIFO buffer, wait until the FIFO buffer is full, then read ADC samples from the FIFO buffer."
   ]
  },
  {
   "cell_type": "code",
   "execution_count": null,
   "metadata": {},
   "outputs": [],
   "source": [
    "io.edge(0, 1, True, 0)\n",
    "\n",
    "io.read(status, 1, 0)\n",
    "while status[0] < size:\n",
    "    time.sleep(0.1)\n",
    "    io.read(status, 1, 0)\n",
    "\n",
    "io.read(buffer, 2, 0)"
   ]
  },
  {
   "attachments": {},
   "cell_type": "markdown",
   "metadata": {},
   "source": [
    "Plot the ADC samples separately for two channels."
   ]
  },
  {
   "cell_type": "code",
   "execution_count": null,
   "metadata": {},
   "outputs": [],
   "source": [
    "ch1 = buffer[0::2]\n",
    "ch2 = buffer[1::2]\n",
    "\n",
    "pl.figure(figsize=[8, 4], dpi=150, constrained_layout=True)\n",
    "\n",
    "pl.plot(ch1)\n",
    "pl.plot(ch2)\n",
    "\n",
    "pl.xlabel(\"sample number\")\n",
    "pl.ylabel(\"ADC units\")\n",
    "\n",
    "pl.ylim(-9000, 9000)\n",
    "pl.grid()\n",
    "\n",
    "pl.show()"
   ]
  },
  {
   "attachments": {},
   "cell_type": "markdown",
   "metadata": {},
   "source": [
    "Stop I/O."
   ]
  },
  {
   "cell_type": "code",
   "execution_count": null,
   "metadata": {},
   "outputs": [],
   "source": [
    "io.stop()"
   ]
  }
 ],
 "metadata": {
  "kernelspec": {
   "display_name": "Python 3 (ipykernel)",
   "language": "python",
   "name": "python3"
  },
  "language_info": {
   "codemirror_mode": {
    "name": "ipython",
    "version": 3
   },
   "file_extension": ".py",
   "mimetype": "text/x-python",
   "name": "python",
   "nbconvert_exporter": "python",
   "pygments_lexer": "ipython3"
  }
 },
 "nbformat": 4,
 "nbformat_minor": 4
}
